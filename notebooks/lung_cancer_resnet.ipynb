{
  "nbformat": 4,
  "nbformat_minor": 0,
  "metadata": {
    "colab": {
      "provenance": [],
      "authorship_tag": "ABX9TyMtDVZ6vQ76jijITSBuBC6G",
      "include_colab_link": true
    },
    "kernelspec": {
      "name": "python3",
      "display_name": "Python 3"
    },
    "language_info": {
      "name": "python"
    },
    "widgets": {
      "application/vnd.jupyter.widget-state+json": {
        "3d7b4c93665845d9abda86125334a551": {
          "model_module": "@jupyter-widgets/controls",
          "model_name": "HBoxModel",
          "model_module_version": "1.5.0",
          "state": {
            "_dom_classes": [],
            "_model_module": "@jupyter-widgets/controls",
            "_model_module_version": "1.5.0",
            "_model_name": "HBoxModel",
            "_view_count": null,
            "_view_module": "@jupyter-widgets/controls",
            "_view_module_version": "1.5.0",
            "_view_name": "HBoxView",
            "box_style": "",
            "children": [
              "IPY_MODEL_c9360c16c0304821a74e64802a2f17fd",
              "IPY_MODEL_2508f7fc17644655bf6bb2612df879f5",
              "IPY_MODEL_11414237b3b3482fbdd7ca078697b208"
            ],
            "layout": "IPY_MODEL_8cbbdc6722574fb7a68a64ba1fcbd20e"
          }
        },
        "c9360c16c0304821a74e64802a2f17fd": {
          "model_module": "@jupyter-widgets/controls",
          "model_name": "HTMLModel",
          "model_module_version": "1.5.0",
          "state": {
            "_dom_classes": [],
            "_model_module": "@jupyter-widgets/controls",
            "_model_module_version": "1.5.0",
            "_model_name": "HTMLModel",
            "_view_count": null,
            "_view_module": "@jupyter-widgets/controls",
            "_view_module_version": "1.5.0",
            "_view_name": "HTMLView",
            "description": "",
            "description_tooltip": null,
            "layout": "IPY_MODEL_d3f336669222434d987f5018a7532982",
            "placeholder": "​",
            "style": "IPY_MODEL_526dcb271f074939b170d0fea5f25432",
            "value": "100%"
          }
        },
        "2508f7fc17644655bf6bb2612df879f5": {
          "model_module": "@jupyter-widgets/controls",
          "model_name": "FloatProgressModel",
          "model_module_version": "1.5.0",
          "state": {
            "_dom_classes": [],
            "_model_module": "@jupyter-widgets/controls",
            "_model_module_version": "1.5.0",
            "_model_name": "FloatProgressModel",
            "_view_count": null,
            "_view_module": "@jupyter-widgets/controls",
            "_view_module_version": "1.5.0",
            "_view_name": "ProgressView",
            "bar_style": "success",
            "description": "",
            "description_tooltip": null,
            "layout": "IPY_MODEL_6589980d2afa452a8f47cb9c206f49c3",
            "max": 20,
            "min": 0,
            "orientation": "horizontal",
            "style": "IPY_MODEL_57bd0cad39904a22b29d2b43b25c1938",
            "value": 20
          }
        },
        "11414237b3b3482fbdd7ca078697b208": {
          "model_module": "@jupyter-widgets/controls",
          "model_name": "HTMLModel",
          "model_module_version": "1.5.0",
          "state": {
            "_dom_classes": [],
            "_model_module": "@jupyter-widgets/controls",
            "_model_module_version": "1.5.0",
            "_model_name": "HTMLModel",
            "_view_count": null,
            "_view_module": "@jupyter-widgets/controls",
            "_view_module_version": "1.5.0",
            "_view_name": "HTMLView",
            "description": "",
            "description_tooltip": null,
            "layout": "IPY_MODEL_fe2978f362554148a8b8c75faf4778e7",
            "placeholder": "​",
            "style": "IPY_MODEL_31e1fd4ae9814b08a1cb396fdf85ed9d",
            "value": " 20/20 [1:18:34&lt;00:00, 231.18s/it]"
          }
        },
        "8cbbdc6722574fb7a68a64ba1fcbd20e": {
          "model_module": "@jupyter-widgets/base",
          "model_name": "LayoutModel",
          "model_module_version": "1.2.0",
          "state": {
            "_model_module": "@jupyter-widgets/base",
            "_model_module_version": "1.2.0",
            "_model_name": "LayoutModel",
            "_view_count": null,
            "_view_module": "@jupyter-widgets/base",
            "_view_module_version": "1.2.0",
            "_view_name": "LayoutView",
            "align_content": null,
            "align_items": null,
            "align_self": null,
            "border": null,
            "bottom": null,
            "display": null,
            "flex": null,
            "flex_flow": null,
            "grid_area": null,
            "grid_auto_columns": null,
            "grid_auto_flow": null,
            "grid_auto_rows": null,
            "grid_column": null,
            "grid_gap": null,
            "grid_row": null,
            "grid_template_areas": null,
            "grid_template_columns": null,
            "grid_template_rows": null,
            "height": null,
            "justify_content": null,
            "justify_items": null,
            "left": null,
            "margin": null,
            "max_height": null,
            "max_width": null,
            "min_height": null,
            "min_width": null,
            "object_fit": null,
            "object_position": null,
            "order": null,
            "overflow": null,
            "overflow_x": null,
            "overflow_y": null,
            "padding": null,
            "right": null,
            "top": null,
            "visibility": null,
            "width": null
          }
        },
        "d3f336669222434d987f5018a7532982": {
          "model_module": "@jupyter-widgets/base",
          "model_name": "LayoutModel",
          "model_module_version": "1.2.0",
          "state": {
            "_model_module": "@jupyter-widgets/base",
            "_model_module_version": "1.2.0",
            "_model_name": "LayoutModel",
            "_view_count": null,
            "_view_module": "@jupyter-widgets/base",
            "_view_module_version": "1.2.0",
            "_view_name": "LayoutView",
            "align_content": null,
            "align_items": null,
            "align_self": null,
            "border": null,
            "bottom": null,
            "display": null,
            "flex": null,
            "flex_flow": null,
            "grid_area": null,
            "grid_auto_columns": null,
            "grid_auto_flow": null,
            "grid_auto_rows": null,
            "grid_column": null,
            "grid_gap": null,
            "grid_row": null,
            "grid_template_areas": null,
            "grid_template_columns": null,
            "grid_template_rows": null,
            "height": null,
            "justify_content": null,
            "justify_items": null,
            "left": null,
            "margin": null,
            "max_height": null,
            "max_width": null,
            "min_height": null,
            "min_width": null,
            "object_fit": null,
            "object_position": null,
            "order": null,
            "overflow": null,
            "overflow_x": null,
            "overflow_y": null,
            "padding": null,
            "right": null,
            "top": null,
            "visibility": null,
            "width": null
          }
        },
        "526dcb271f074939b170d0fea5f25432": {
          "model_module": "@jupyter-widgets/controls",
          "model_name": "DescriptionStyleModel",
          "model_module_version": "1.5.0",
          "state": {
            "_model_module": "@jupyter-widgets/controls",
            "_model_module_version": "1.5.0",
            "_model_name": "DescriptionStyleModel",
            "_view_count": null,
            "_view_module": "@jupyter-widgets/base",
            "_view_module_version": "1.2.0",
            "_view_name": "StyleView",
            "description_width": ""
          }
        },
        "6589980d2afa452a8f47cb9c206f49c3": {
          "model_module": "@jupyter-widgets/base",
          "model_name": "LayoutModel",
          "model_module_version": "1.2.0",
          "state": {
            "_model_module": "@jupyter-widgets/base",
            "_model_module_version": "1.2.0",
            "_model_name": "LayoutModel",
            "_view_count": null,
            "_view_module": "@jupyter-widgets/base",
            "_view_module_version": "1.2.0",
            "_view_name": "LayoutView",
            "align_content": null,
            "align_items": null,
            "align_self": null,
            "border": null,
            "bottom": null,
            "display": null,
            "flex": null,
            "flex_flow": null,
            "grid_area": null,
            "grid_auto_columns": null,
            "grid_auto_flow": null,
            "grid_auto_rows": null,
            "grid_column": null,
            "grid_gap": null,
            "grid_row": null,
            "grid_template_areas": null,
            "grid_template_columns": null,
            "grid_template_rows": null,
            "height": null,
            "justify_content": null,
            "justify_items": null,
            "left": null,
            "margin": null,
            "max_height": null,
            "max_width": null,
            "min_height": null,
            "min_width": null,
            "object_fit": null,
            "object_position": null,
            "order": null,
            "overflow": null,
            "overflow_x": null,
            "overflow_y": null,
            "padding": null,
            "right": null,
            "top": null,
            "visibility": null,
            "width": null
          }
        },
        "57bd0cad39904a22b29d2b43b25c1938": {
          "model_module": "@jupyter-widgets/controls",
          "model_name": "ProgressStyleModel",
          "model_module_version": "1.5.0",
          "state": {
            "_model_module": "@jupyter-widgets/controls",
            "_model_module_version": "1.5.0",
            "_model_name": "ProgressStyleModel",
            "_view_count": null,
            "_view_module": "@jupyter-widgets/base",
            "_view_module_version": "1.2.0",
            "_view_name": "StyleView",
            "bar_color": null,
            "description_width": ""
          }
        },
        "fe2978f362554148a8b8c75faf4778e7": {
          "model_module": "@jupyter-widgets/base",
          "model_name": "LayoutModel",
          "model_module_version": "1.2.0",
          "state": {
            "_model_module": "@jupyter-widgets/base",
            "_model_module_version": "1.2.0",
            "_model_name": "LayoutModel",
            "_view_count": null,
            "_view_module": "@jupyter-widgets/base",
            "_view_module_version": "1.2.0",
            "_view_name": "LayoutView",
            "align_content": null,
            "align_items": null,
            "align_self": null,
            "border": null,
            "bottom": null,
            "display": null,
            "flex": null,
            "flex_flow": null,
            "grid_area": null,
            "grid_auto_columns": null,
            "grid_auto_flow": null,
            "grid_auto_rows": null,
            "grid_column": null,
            "grid_gap": null,
            "grid_row": null,
            "grid_template_areas": null,
            "grid_template_columns": null,
            "grid_template_rows": null,
            "height": null,
            "justify_content": null,
            "justify_items": null,
            "left": null,
            "margin": null,
            "max_height": null,
            "max_width": null,
            "min_height": null,
            "min_width": null,
            "object_fit": null,
            "object_position": null,
            "order": null,
            "overflow": null,
            "overflow_x": null,
            "overflow_y": null,
            "padding": null,
            "right": null,
            "top": null,
            "visibility": null,
            "width": null
          }
        },
        "31e1fd4ae9814b08a1cb396fdf85ed9d": {
          "model_module": "@jupyter-widgets/controls",
          "model_name": "DescriptionStyleModel",
          "model_module_version": "1.5.0",
          "state": {
            "_model_module": "@jupyter-widgets/controls",
            "_model_module_version": "1.5.0",
            "_model_name": "DescriptionStyleModel",
            "_view_count": null,
            "_view_module": "@jupyter-widgets/base",
            "_view_module_version": "1.2.0",
            "_view_name": "StyleView",
            "description_width": ""
          }
        }
      }
    }
  },
  "cells": [
    {
      "cell_type": "markdown",
      "metadata": {
        "id": "view-in-github",
        "colab_type": "text"
      },
      "source": [
        "<a href=\"https://colab.research.google.com/github/sohv/lung_cancer_prediction_resnet18/blob/main/notebooks/lung_cancer_resnet.ipynb\" target=\"_parent\"><img src=\"https://colab.research.google.com/assets/colab-badge.svg\" alt=\"Open In Colab\"/></a>"
      ]
    },
    {
      "cell_type": "code",
      "source": [
        "from google.colab import drive\n",
        "drive.mount('/content/drive')"
      ],
      "metadata": {
        "colab": {
          "base_uri": "https://localhost:8080/"
        },
        "id": "e2ATRPkYKFJE",
        "outputId": "b4e93079-491d-4b1d-bec7-b7e1ef507279"
      },
      "execution_count": 1,
      "outputs": [
        {
          "output_type": "stream",
          "name": "stdout",
          "text": [
            "Mounted at /content/drive\n"
          ]
        }
      ]
    },
    {
      "cell_type": "code",
      "execution_count": 2,
      "metadata": {
        "id": "IdqS89B0JumU"
      },
      "outputs": [],
      "source": [
        "import torch\n",
        "from torch import nn\n",
        "import torch\n",
        "import numpy as np\n",
        "from torch.utils.data import DataLoader\n",
        "from torchvision import datasets, transforms\n",
        "from torch.utils.data import DataLoader\n",
        "from torchvision.models import resnet18\n",
        "from torchvision.models import ResNet18_Weights"
      ]
    },
    {
      "cell_type": "code",
      "source": [
        "resnet18_model = resnet18(weights=ResNet18_Weights.IMAGENET1K_V1)\n",
        "device = 'cuda' if torch.cuda.is_available() else 'cpu'\n",
        "device"
      ],
      "metadata": {
        "colab": {
          "base_uri": "https://localhost:8080/",
          "height": 91
        },
        "id": "f1y3bOmJNoId",
        "outputId": "5f515334-9266-48f3-b8fa-b502b3fa5a69"
      },
      "execution_count": 3,
      "outputs": [
        {
          "output_type": "stream",
          "name": "stderr",
          "text": [
            "Downloading: \"https://download.pytorch.org/models/resnet18-f37072fd.pth\" to /root/.cache/torch/hub/checkpoints/resnet18-f37072fd.pth\n",
            "100%|██████████| 44.7M/44.7M [00:00<00:00, 92.2MB/s]\n"
          ]
        },
        {
          "output_type": "execute_result",
          "data": {
            "text/plain": [
              "'cpu'"
            ],
            "application/vnd.google.colaboratory.intrinsic+json": {
              "type": "string"
            }
          },
          "metadata": {},
          "execution_count": 3
        }
      ]
    },
    {
      "cell_type": "code",
      "source": [
        "resnet18_model"
      ],
      "metadata": {
        "colab": {
          "base_uri": "https://localhost:8080/"
        },
        "id": "_JG2vs0tNtJ3",
        "outputId": "09b38fd6-43e8-49b4-ee32-8c4488f6c4e1"
      },
      "execution_count": 4,
      "outputs": [
        {
          "output_type": "execute_result",
          "data": {
            "text/plain": [
              "ResNet(\n",
              "  (conv1): Conv2d(3, 64, kernel_size=(7, 7), stride=(2, 2), padding=(3, 3), bias=False)\n",
              "  (bn1): BatchNorm2d(64, eps=1e-05, momentum=0.1, affine=True, track_running_stats=True)\n",
              "  (relu): ReLU(inplace=True)\n",
              "  (maxpool): MaxPool2d(kernel_size=3, stride=2, padding=1, dilation=1, ceil_mode=False)\n",
              "  (layer1): Sequential(\n",
              "    (0): BasicBlock(\n",
              "      (conv1): Conv2d(64, 64, kernel_size=(3, 3), stride=(1, 1), padding=(1, 1), bias=False)\n",
              "      (bn1): BatchNorm2d(64, eps=1e-05, momentum=0.1, affine=True, track_running_stats=True)\n",
              "      (relu): ReLU(inplace=True)\n",
              "      (conv2): Conv2d(64, 64, kernel_size=(3, 3), stride=(1, 1), padding=(1, 1), bias=False)\n",
              "      (bn2): BatchNorm2d(64, eps=1e-05, momentum=0.1, affine=True, track_running_stats=True)\n",
              "    )\n",
              "    (1): BasicBlock(\n",
              "      (conv1): Conv2d(64, 64, kernel_size=(3, 3), stride=(1, 1), padding=(1, 1), bias=False)\n",
              "      (bn1): BatchNorm2d(64, eps=1e-05, momentum=0.1, affine=True, track_running_stats=True)\n",
              "      (relu): ReLU(inplace=True)\n",
              "      (conv2): Conv2d(64, 64, kernel_size=(3, 3), stride=(1, 1), padding=(1, 1), bias=False)\n",
              "      (bn2): BatchNorm2d(64, eps=1e-05, momentum=0.1, affine=True, track_running_stats=True)\n",
              "    )\n",
              "  )\n",
              "  (layer2): Sequential(\n",
              "    (0): BasicBlock(\n",
              "      (conv1): Conv2d(64, 128, kernel_size=(3, 3), stride=(2, 2), padding=(1, 1), bias=False)\n",
              "      (bn1): BatchNorm2d(128, eps=1e-05, momentum=0.1, affine=True, track_running_stats=True)\n",
              "      (relu): ReLU(inplace=True)\n",
              "      (conv2): Conv2d(128, 128, kernel_size=(3, 3), stride=(1, 1), padding=(1, 1), bias=False)\n",
              "      (bn2): BatchNorm2d(128, eps=1e-05, momentum=0.1, affine=True, track_running_stats=True)\n",
              "      (downsample): Sequential(\n",
              "        (0): Conv2d(64, 128, kernel_size=(1, 1), stride=(2, 2), bias=False)\n",
              "        (1): BatchNorm2d(128, eps=1e-05, momentum=0.1, affine=True, track_running_stats=True)\n",
              "      )\n",
              "    )\n",
              "    (1): BasicBlock(\n",
              "      (conv1): Conv2d(128, 128, kernel_size=(3, 3), stride=(1, 1), padding=(1, 1), bias=False)\n",
              "      (bn1): BatchNorm2d(128, eps=1e-05, momentum=0.1, affine=True, track_running_stats=True)\n",
              "      (relu): ReLU(inplace=True)\n",
              "      (conv2): Conv2d(128, 128, kernel_size=(3, 3), stride=(1, 1), padding=(1, 1), bias=False)\n",
              "      (bn2): BatchNorm2d(128, eps=1e-05, momentum=0.1, affine=True, track_running_stats=True)\n",
              "    )\n",
              "  )\n",
              "  (layer3): Sequential(\n",
              "    (0): BasicBlock(\n",
              "      (conv1): Conv2d(128, 256, kernel_size=(3, 3), stride=(2, 2), padding=(1, 1), bias=False)\n",
              "      (bn1): BatchNorm2d(256, eps=1e-05, momentum=0.1, affine=True, track_running_stats=True)\n",
              "      (relu): ReLU(inplace=True)\n",
              "      (conv2): Conv2d(256, 256, kernel_size=(3, 3), stride=(1, 1), padding=(1, 1), bias=False)\n",
              "      (bn2): BatchNorm2d(256, eps=1e-05, momentum=0.1, affine=True, track_running_stats=True)\n",
              "      (downsample): Sequential(\n",
              "        (0): Conv2d(128, 256, kernel_size=(1, 1), stride=(2, 2), bias=False)\n",
              "        (1): BatchNorm2d(256, eps=1e-05, momentum=0.1, affine=True, track_running_stats=True)\n",
              "      )\n",
              "    )\n",
              "    (1): BasicBlock(\n",
              "      (conv1): Conv2d(256, 256, kernel_size=(3, 3), stride=(1, 1), padding=(1, 1), bias=False)\n",
              "      (bn1): BatchNorm2d(256, eps=1e-05, momentum=0.1, affine=True, track_running_stats=True)\n",
              "      (relu): ReLU(inplace=True)\n",
              "      (conv2): Conv2d(256, 256, kernel_size=(3, 3), stride=(1, 1), padding=(1, 1), bias=False)\n",
              "      (bn2): BatchNorm2d(256, eps=1e-05, momentum=0.1, affine=True, track_running_stats=True)\n",
              "    )\n",
              "  )\n",
              "  (layer4): Sequential(\n",
              "    (0): BasicBlock(\n",
              "      (conv1): Conv2d(256, 512, kernel_size=(3, 3), stride=(2, 2), padding=(1, 1), bias=False)\n",
              "      (bn1): BatchNorm2d(512, eps=1e-05, momentum=0.1, affine=True, track_running_stats=True)\n",
              "      (relu): ReLU(inplace=True)\n",
              "      (conv2): Conv2d(512, 512, kernel_size=(3, 3), stride=(1, 1), padding=(1, 1), bias=False)\n",
              "      (bn2): BatchNorm2d(512, eps=1e-05, momentum=0.1, affine=True, track_running_stats=True)\n",
              "      (downsample): Sequential(\n",
              "        (0): Conv2d(256, 512, kernel_size=(1, 1), stride=(2, 2), bias=False)\n",
              "        (1): BatchNorm2d(512, eps=1e-05, momentum=0.1, affine=True, track_running_stats=True)\n",
              "      )\n",
              "    )\n",
              "    (1): BasicBlock(\n",
              "      (conv1): Conv2d(512, 512, kernel_size=(3, 3), stride=(1, 1), padding=(1, 1), bias=False)\n",
              "      (bn1): BatchNorm2d(512, eps=1e-05, momentum=0.1, affine=True, track_running_stats=True)\n",
              "      (relu): ReLU(inplace=True)\n",
              "      (conv2): Conv2d(512, 512, kernel_size=(3, 3), stride=(1, 1), padding=(1, 1), bias=False)\n",
              "      (bn2): BatchNorm2d(512, eps=1e-05, momentum=0.1, affine=True, track_running_stats=True)\n",
              "    )\n",
              "  )\n",
              "  (avgpool): AdaptiveAvgPool2d(output_size=(1, 1))\n",
              "  (fc): Linear(in_features=512, out_features=1000, bias=True)\n",
              ")"
            ]
          },
          "metadata": {},
          "execution_count": 4
        }
      ]
    },
    {
      "cell_type": "code",
      "source": [
        "data_transform = transforms.Compose([\n",
        "    transforms.Resize(size=(224, 224)),\n",
        "     transforms.RandomHorizontalFlip(p=0.7),\n",
        "    transforms.RandomRotation(10),\n",
        "    transforms.ToTensor(),\n",
        "])"
      ],
      "metadata": {
        "id": "P3JpTgFMNwop"
      },
      "execution_count": 5,
      "outputs": []
    },
    {
      "cell_type": "code",
      "source": [
        "import os\n",
        "from torchvision import datasets, transforms\n",
        "\n",
        "train_data_path = \"/content/drive/MyDrive/Colab Notebooks/lung_cancer_detection/train\"\n",
        "test_data_path = \"/content/drive/MyDrive/Colab Notebooks/lung_cancer_detection/test\"\n",
        "\n",
        "train_data = datasets.ImageFolder(root=train_data_path, transform=data_transform)\n",
        "test_data = datasets.ImageFolder(root=test_data_path, transform=data_transform)\n",
        "\n",
        "print(f\"Number of training samples: {len(train_data)}\")\n",
        "print(f\"Number of test samples: {len(test_data)}\")"
      ],
      "metadata": {
        "colab": {
          "base_uri": "https://localhost:8080/"
        },
        "id": "vfuJzMadN17p",
        "outputId": "563d0b90-a708-4bef-d164-c04f7c77c8a7"
      },
      "execution_count": 6,
      "outputs": [
        {
          "output_type": "stream",
          "name": "stdout",
          "text": [
            "Number of training samples: 675\n",
            "Number of test samples: 315\n"
          ]
        }
      ]
    },
    {
      "cell_type": "code",
      "source": [
        "train_data[np.random.randint(0 , len(train_data))]"
      ],
      "metadata": {
        "colab": {
          "base_uri": "https://localhost:8080/"
        },
        "id": "_0rkUdF5OCFn",
        "outputId": "20a36d3c-0fdb-469d-e32a-6f4e7c8e9362"
      },
      "execution_count": 7,
      "outputs": [
        {
          "output_type": "execute_result",
          "data": {
            "text/plain": [
              "(tensor([[[0., 0., 0.,  ..., 0., 0., 0.],\n",
              "          [0., 0., 0.,  ..., 0., 0., 0.],\n",
              "          [0., 0., 0.,  ..., 0., 0., 0.],\n",
              "          ...,\n",
              "          [0., 0., 0.,  ..., 0., 0., 0.],\n",
              "          [0., 0., 0.,  ..., 0., 0., 0.],\n",
              "          [0., 0., 0.,  ..., 0., 0., 0.]],\n",
              " \n",
              "         [[0., 0., 0.,  ..., 0., 0., 0.],\n",
              "          [0., 0., 0.,  ..., 0., 0., 0.],\n",
              "          [0., 0., 0.,  ..., 0., 0., 0.],\n",
              "          ...,\n",
              "          [0., 0., 0.,  ..., 0., 0., 0.],\n",
              "          [0., 0., 0.,  ..., 0., 0., 0.],\n",
              "          [0., 0., 0.,  ..., 0., 0., 0.]],\n",
              " \n",
              "         [[0., 0., 0.,  ..., 0., 0., 0.],\n",
              "          [0., 0., 0.,  ..., 0., 0., 0.],\n",
              "          [0., 0., 0.,  ..., 0., 0., 0.],\n",
              "          ...,\n",
              "          [0., 0., 0.,  ..., 0., 0., 0.],\n",
              "          [0., 0., 0.,  ..., 0., 0., 0.],\n",
              "          [0., 0., 0.,  ..., 0., 0., 0.]]]),\n",
              " 0)"
            ]
          },
          "metadata": {},
          "execution_count": 7
        }
      ]
    },
    {
      "cell_type": "code",
      "source": [
        "len(train_data)  , len(test_data)"
      ],
      "metadata": {
        "colab": {
          "base_uri": "https://localhost:8080/"
        },
        "id": "2LMrtOpcOGtq",
        "outputId": "589c1209-2e10-45a5-ce2c-c41ca08a021c"
      },
      "execution_count": 8,
      "outputs": [
        {
          "output_type": "execute_result",
          "data": {
            "text/plain": [
              "(675, 315)"
            ]
          },
          "metadata": {},
          "execution_count": 8
        }
      ]
    },
    {
      "cell_type": "code",
      "source": [
        "class_names = train_data.classes\n",
        "class_names"
      ],
      "metadata": {
        "colab": {
          "base_uri": "https://localhost:8080/"
        },
        "id": "KRyCwATqOJHg",
        "outputId": "8a7080d9-31bd-487a-eba9-f248a9db191e"
      },
      "execution_count": 9,
      "outputs": [
        {
          "output_type": "execute_result",
          "data": {
            "text/plain": [
              "['adenocarcinoma_left.lower.lobe_T2_N0_M0_Ib',\n",
              " 'large.cell.carcinoma_left.hilum_T2_N2_M0_IIIa',\n",
              " 'normal',\n",
              " 'squamous.cell.carcinoma_left.hilum_T1_N2_M0_IIIa']"
            ]
          },
          "metadata": {},
          "execution_count": 9
        }
      ]
    },
    {
      "cell_type": "code",
      "source": [
        "class_dict = train_data.class_to_idx\n",
        "class_dict"
      ],
      "metadata": {
        "colab": {
          "base_uri": "https://localhost:8080/"
        },
        "id": "n_q8_humOK-t",
        "outputId": "f0eee8e2-fe99-4061-ac90-be3c332e0743"
      },
      "execution_count": 10,
      "outputs": [
        {
          "output_type": "execute_result",
          "data": {
            "text/plain": [
              "{'adenocarcinoma_left.lower.lobe_T2_N0_M0_Ib': 0,\n",
              " 'large.cell.carcinoma_left.hilum_T2_N2_M0_IIIa': 1,\n",
              " 'normal': 2,\n",
              " 'squamous.cell.carcinoma_left.hilum_T1_N2_M0_IIIa': 3}"
            ]
          },
          "metadata": {},
          "execution_count": 10
        }
      ]
    },
    {
      "cell_type": "code",
      "source": [
        "# change the key names\n",
        "old_key1 = 'adenocarcinoma_left.lower.lobe_T2_N0_M0_Ib'\n",
        "new_key1 = 'adenocarcinoma_left.lower.lobe'\n",
        "\n",
        "old_key2 = 'large.cell.carcinoma_left.hilum_T2_N2_M0_IIIa'\n",
        "new_key2 = 'large.cell.carcinoma_left.hilum'\n",
        "\n",
        "old_key3 = 'squamous.cell.carcinoma_left.hilum_T1_N2_M0_IIIa'\n",
        "new_key3 = 'squamous.cell.carcinoma_left.hilum'\n",
        "\n",
        "# add new key-value pair\n",
        "class_dict[new_key1] = class_dict[old_key1]\n",
        "class_dict[new_key2] = class_dict[old_key2]\n",
        "class_dict[new_key3] = class_dict[old_key3]\n",
        "\n",
        "# remove old key-value pair\n",
        "del class_dict[old_key1]\n",
        "del class_dict[old_key2]\n",
        "del class_dict[old_key3]\n",
        "\n",
        "print(class_dict)"
      ],
      "metadata": {
        "colab": {
          "base_uri": "https://localhost:8080/"
        },
        "id": "XUoe_vU3ONXk",
        "outputId": "ba59697a-2c11-4ca9-a829-e52cb4058f6c"
      },
      "execution_count": 11,
      "outputs": [
        {
          "output_type": "stream",
          "name": "stdout",
          "text": [
            "{'normal': 2, 'adenocarcinoma_left.lower.lobe': 0, 'large.cell.carcinoma_left.hilum': 1, 'squamous.cell.carcinoma_left.hilum': 3}\n"
          ]
        }
      ]
    },
    {
      "cell_type": "code",
      "source": [
        "class_names[0]=new_key1\n",
        "class_names[1]=new_key2\n",
        "class_names[3]=new_key3\n",
        "class_names"
      ],
      "metadata": {
        "colab": {
          "base_uri": "https://localhost:8080/"
        },
        "id": "Tq41CDa1OVyc",
        "outputId": "c263cbcb-aac7-4f44-d91f-8a7bd308b694"
      },
      "execution_count": 12,
      "outputs": [
        {
          "output_type": "execute_result",
          "data": {
            "text/plain": [
              "['adenocarcinoma_left.lower.lobe',\n",
              " 'large.cell.carcinoma_left.hilum',\n",
              " 'normal',\n",
              " 'squamous.cell.carcinoma_left.hilum']"
            ]
          },
          "metadata": {},
          "execution_count": 12
        }
      ]
    },
    {
      "cell_type": "code",
      "source": [
        "random_idx = torch.randint(0, len(train_data), size=(1,)).item()\n",
        "img, label = train_data[random_idx][0], train_data[random_idx][1]\n",
        "\n",
        "print(f\"Image tensor:\\n {img}\")\n",
        "print(f\"Image shape: {img.shape}\")\n",
        "print(f\"Image datatype: {img.dtype}\")\n",
        "print(f\"Image label: {label}\")\n",
        "print(f\"Label datatype: {type(label)}\")\n",
        "print(f\"class name: {class_names[label]}\")"
      ],
      "metadata": {
        "colab": {
          "base_uri": "https://localhost:8080/"
        },
        "id": "VHqvoiLWOcrk",
        "outputId": "534e1847-8b69-4614-a01c-6a0abe0ba421"
      },
      "execution_count": 13,
      "outputs": [
        {
          "output_type": "stream",
          "name": "stdout",
          "text": [
            "Image tensor:\n",
            " tensor([[[0., 0., 0.,  ..., 0., 0., 0.],\n",
            "         [0., 0., 0.,  ..., 0., 0., 0.],\n",
            "         [0., 0., 0.,  ..., 0., 0., 0.],\n",
            "         ...,\n",
            "         [0., 0., 0.,  ..., 0., 0., 0.],\n",
            "         [0., 0., 0.,  ..., 0., 0., 0.],\n",
            "         [0., 0., 0.,  ..., 0., 0., 0.]],\n",
            "\n",
            "        [[0., 0., 0.,  ..., 0., 0., 0.],\n",
            "         [0., 0., 0.,  ..., 0., 0., 0.],\n",
            "         [0., 0., 0.,  ..., 0., 0., 0.],\n",
            "         ...,\n",
            "         [0., 0., 0.,  ..., 0., 0., 0.],\n",
            "         [0., 0., 0.,  ..., 0., 0., 0.],\n",
            "         [0., 0., 0.,  ..., 0., 0., 0.]],\n",
            "\n",
            "        [[0., 0., 0.,  ..., 0., 0., 0.],\n",
            "         [0., 0., 0.,  ..., 0., 0., 0.],\n",
            "         [0., 0., 0.,  ..., 0., 0., 0.],\n",
            "         ...,\n",
            "         [0., 0., 0.,  ..., 0., 0., 0.],\n",
            "         [0., 0., 0.,  ..., 0., 0., 0.],\n",
            "         [0., 0., 0.,  ..., 0., 0., 0.]]])\n",
            "Image shape: torch.Size([3, 224, 224])\n",
            "Image datatype: torch.float32\n",
            "Image label: 3\n",
            "Label datatype: <class 'int'>\n",
            "class name: squamous.cell.carcinoma_left.hilum\n"
          ]
        }
      ]
    },
    {
      "cell_type": "code",
      "source": [
        "import random\n",
        "from PIL import Image\n",
        "import matplotlib.pyplot as plt\n",
        "random_idx = torch.randint(0, len(train_data), size=(1,)).item()\n",
        "img, label = train_data[random_idx][0], train_data[random_idx][1]\n",
        "\n",
        "\n",
        "img_permute = img.permute(1, 2, 0)\n",
        "print(f\"Image permute: {img_permute.shape} \")\n",
        "plt.figure(figsize=(12, 7))\n",
        "plt.imshow(img_permute)\n",
        "plt.axis(\"off\")\n",
        "plt.title(class_names[label], fontsize=14)"
      ],
      "metadata": {
        "colab": {
          "base_uri": "https://localhost:8080/",
          "height": 635
        },
        "id": "EWk_35fpOfrC",
        "outputId": "c5a67842-8a73-4c0f-90ea-99683c61de86"
      },
      "execution_count": 14,
      "outputs": [
        {
          "output_type": "stream",
          "name": "stdout",
          "text": [
            "Image permute: torch.Size([224, 224, 3]) \n"
          ]
        },
        {
          "output_type": "execute_result",
          "data": {
            "text/plain": [
              "Text(0.5, 1.0, 'normal')"
            ]
          },
          "metadata": {},
          "execution_count": 14
        },
        {
          "output_type": "display_data",
          "data": {
            "text/plain": [
              "<Figure size 1200x700 with 1 Axes>"
            ],
            "image/png": "[encoded data removed]"
          },
          "metadata": {}
        }
      ]
    },
    {
      "cell_type": "markdown",
      "source": [
        "**Data Loader**"
      ],
      "metadata": {
        "id": "JkoXH3pVOn1-"
      }
    },
    {
      "cell_type": "code",
      "source": [
        "BATCH_SIZE=32\n",
        "train_dataloader = DataLoader(dataset=train_data,\n",
        "                              batch_size=BATCH_SIZE,\n",
        "                              num_workers=1,\n",
        "                              shuffle=True)\n",
        "\n",
        "test_dataloader = DataLoader(dataset=test_data,\n",
        "                             batch_size=BATCH_SIZE,\n",
        "                             num_workers=1,\n",
        "                             shuffle=False)\n",
        "\n",
        "train_dataloader, test_dataloader"
      ],
      "metadata": {
        "colab": {
          "base_uri": "https://localhost:8080/"
        },
        "id": "ZHwoJJIXOjIo",
        "outputId": "38c2d4be-d696-4ea8-dbd3-8b9487747777"
      },
      "execution_count": 15,
      "outputs": [
        {
          "output_type": "execute_result",
          "data": {
            "text/plain": [
              "(<torch.utils.data.dataloader.DataLoader at 0x7e85eb1c5c00>,\n",
              " <torch.utils.data.dataloader.DataLoader at 0x7e85eb1c7820>)"
            ]
          },
          "metadata": {},
          "execution_count": 15
        }
      ]
    },
    {
      "cell_type": "code",
      "source": [
        "resnet18_model.fc = nn.Sequential (\n",
        "    nn.Linear(512,512),\n",
        "    nn.Dropout(0.2),\n",
        "     nn.Linear(512,256),\n",
        "    nn.Linear(256,len(class_names)),\n",
        ")\n",
        "resnet18_model.fc"
      ],
      "metadata": {
        "colab": {
          "base_uri": "https://localhost:8080/"
        },
        "id": "FYGpbz3WOq_f",
        "outputId": "742af2de-d6c8-4cf4-b142-a9826c9e0bf4"
      },
      "execution_count": 16,
      "outputs": [
        {
          "output_type": "execute_result",
          "data": {
            "text/plain": [
              "Sequential(\n",
              "  (0): Linear(in_features=512, out_features=512, bias=True)\n",
              "  (1): Dropout(p=0.2, inplace=False)\n",
              "  (2): Linear(in_features=512, out_features=256, bias=True)\n",
              "  (3): Linear(in_features=256, out_features=4, bias=True)\n",
              ")"
            ]
          },
          "metadata": {},
          "execution_count": 16
        }
      ]
    },
    {
      "cell_type": "code",
      "source": [
        "resnet18_model.conv1 = nn.Conv2d(3, 64, kernel_size=(7, 7), stride=(2, 2), padding=(3, 3), bias=False)"
      ],
      "metadata": {
        "id": "7YdS1iwDOvg2"
      },
      "execution_count": 17,
      "outputs": []
    },
    {
      "cell_type": "code",
      "source": [
        "from torch.optim import lr_scheduler\n",
        "loss_fn = nn.CrossEntropyLoss()\n",
        "optimizer = torch.optim.Adam(resnet18_model.parameters(), lr=0.01)\n",
        "optimizer = torch.optim.SGD(resnet18_model.parameters(), lr=0.01, momentum=0.9)"
      ],
      "metadata": {
        "id": "QcGw2tavOyFO"
      },
      "execution_count": 18,
      "outputs": []
    },
    {
      "cell_type": "code",
      "source": [
        "!pip install torchinfo"
      ],
      "metadata": {
        "colab": {
          "base_uri": "https://localhost:8080/"
        },
        "id": "Ec4oWFMMO7Hc",
        "outputId": "463383a9-d593-4270-b29b-5c5f2fca809e"
      },
      "execution_count": 19,
      "outputs": [
        {
          "output_type": "stream",
          "name": "stdout",
          "text": [
            "Collecting torchinfo\n",
            "  Downloading torchinfo-1.8.0-py3-none-any.whl.metadata (21 kB)\n",
            "Downloading torchinfo-1.8.0-py3-none-any.whl (23 kB)\n",
            "Installing collected packages: torchinfo\n",
            "Successfully installed torchinfo-1.8.0\n"
          ]
        }
      ]
    },
    {
      "cell_type": "code",
      "source": [
        "from torchinfo import summary\n",
        "summary(resnet18_model, input_size=[1, 3, 64, 64])"
      ],
      "metadata": {
        "colab": {
          "base_uri": "https://localhost:8080/"
        },
        "id": "A0Pgtt9VOz8W",
        "outputId": "bcf2676c-2bd9-4373-d617-b62a4f999d71"
      },
      "execution_count": 20,
      "outputs": [
        {
          "output_type": "execute_result",
          "data": {
            "text/plain": [
              "==========================================================================================\n",
              "Layer (type:depth-idx)                   Output Shape              Param #\n",
              "==========================================================================================\n",
              "ResNet                                   [1, 4]                    --\n",
              "├─Conv2d: 1-1                            [1, 64, 32, 32]           9,408\n",
              "├─BatchNorm2d: 1-2                       [1, 64, 32, 32]           128\n",
              "├─ReLU: 1-3                              [1, 64, 32, 32]           --\n",
              "├─MaxPool2d: 1-4                         [1, 64, 16, 16]           --\n",
              "├─Sequential: 1-5                        [1, 64, 16, 16]           --\n",
              "│    └─BasicBlock: 2-1                   [1, 64, 16, 16]           --\n",
              "│    │    └─Conv2d: 3-1                  [1, 64, 16, 16]           36,864\n",
              "│    │    └─BatchNorm2d: 3-2             [1, 64, 16, 16]           128\n",
              "│    │    └─ReLU: 3-3                    [1, 64, 16, 16]           --\n",
              "│    │    └─Conv2d: 3-4                  [1, 64, 16, 16]           36,864\n",
              "│    │    └─BatchNorm2d: 3-5             [1, 64, 16, 16]           128\n",
              "│    │    └─ReLU: 3-6                    [1, 64, 16, 16]           --\n",
              "│    └─BasicBlock: 2-2                   [1, 64, 16, 16]           --\n",
              "│    │    └─Conv2d: 3-7                  [1, 64, 16, 16]           36,864\n",
              "│    │    └─BatchNorm2d: 3-8             [1, 64, 16, 16]           128\n",
              "│    │    └─ReLU: 3-9                    [1, 64, 16, 16]           --\n",
              "│    │    └─Conv2d: 3-10                 [1, 64, 16, 16]           36,864\n",
              "│    │    └─BatchNorm2d: 3-11            [1, 64, 16, 16]           128\n",
              "│    │    └─ReLU: 3-12                   [1, 64, 16, 16]           --\n",
              "├─Sequential: 1-6                        [1, 128, 8, 8]            --\n",
              "│    └─BasicBlock: 2-3                   [1, 128, 8, 8]            --\n",
              "│    │    └─Conv2d: 3-13                 [1, 128, 8, 8]            73,728\n",
              "│    │    └─BatchNorm2d: 3-14            [1, 128, 8, 8]            256\n",
              "│    │    └─ReLU: 3-15                   [1, 128, 8, 8]            --\n",
              "│    │    └─Conv2d: 3-16                 [1, 128, 8, 8]            147,456\n",
              "│    │    └─BatchNorm2d: 3-17            [1, 128, 8, 8]            256\n",
              "│    │    └─Sequential: 3-18             [1, 128, 8, 8]            8,448\n",
              "│    │    └─ReLU: 3-19                   [1, 128, 8, 8]            --\n",
              "│    └─BasicBlock: 2-4                   [1, 128, 8, 8]            --\n",
              "│    │    └─Conv2d: 3-20                 [1, 128, 8, 8]            147,456\n",
              "│    │    └─BatchNorm2d: 3-21            [1, 128, 8, 8]            256\n",
              "│    │    └─ReLU: 3-22                   [1, 128, 8, 8]            --\n",
              "│    │    └─Conv2d: 3-23                 [1, 128, 8, 8]            147,456\n",
              "│    │    └─BatchNorm2d: 3-24            [1, 128, 8, 8]            256\n",
              "│    │    └─ReLU: 3-25                   [1, 128, 8, 8]            --\n",
              "├─Sequential: 1-7                        [1, 256, 4, 4]            --\n",
              "│    └─BasicBlock: 2-5                   [1, 256, 4, 4]            --\n",
              "│    │    └─Conv2d: 3-26                 [1, 256, 4, 4]            294,912\n",
              "│    │    └─BatchNorm2d: 3-27            [1, 256, 4, 4]            512\n",
              "│    │    └─ReLU: 3-28                   [1, 256, 4, 4]            --\n",
              "│    │    └─Conv2d: 3-29                 [1, 256, 4, 4]            589,824\n",
              "│    │    └─BatchNorm2d: 3-30            [1, 256, 4, 4]            512\n",
              "│    │    └─Sequential: 3-31             [1, 256, 4, 4]            33,280\n",
              "│    │    └─ReLU: 3-32                   [1, 256, 4, 4]            --\n",
              "│    └─BasicBlock: 2-6                   [1, 256, 4, 4]            --\n",
              "│    │    └─Conv2d: 3-33                 [1, 256, 4, 4]            589,824\n",
              "│    │    └─BatchNorm2d: 3-34            [1, 256, 4, 4]            512\n",
              "│    │    └─ReLU: 3-35                   [1, 256, 4, 4]            --\n",
              "│    │    └─Conv2d: 3-36                 [1, 256, 4, 4]            589,824\n",
              "│    │    └─BatchNorm2d: 3-37            [1, 256, 4, 4]            512\n",
              "│    │    └─ReLU: 3-38                   [1, 256, 4, 4]            --\n",
              "├─Sequential: 1-8                        [1, 512, 2, 2]            --\n",
              "│    └─BasicBlock: 2-7                   [1, 512, 2, 2]            --\n",
              "│    │    └─Conv2d: 3-39                 [1, 512, 2, 2]            1,179,648\n",
              "│    │    └─BatchNorm2d: 3-40            [1, 512, 2, 2]            1,024\n",
              "│    │    └─ReLU: 3-41                   [1, 512, 2, 2]            --\n",
              "│    │    └─Conv2d: 3-42                 [1, 512, 2, 2]            2,359,296\n",
              "│    │    └─BatchNorm2d: 3-43            [1, 512, 2, 2]            1,024\n",
              "│    │    └─Sequential: 3-44             [1, 512, 2, 2]            132,096\n",
              "│    │    └─ReLU: 3-45                   [1, 512, 2, 2]            --\n",
              "│    └─BasicBlock: 2-8                   [1, 512, 2, 2]            --\n",
              "│    │    └─Conv2d: 3-46                 [1, 512, 2, 2]            2,359,296\n",
              "│    │    └─BatchNorm2d: 3-47            [1, 512, 2, 2]            1,024\n",
              "│    │    └─ReLU: 3-48                   [1, 512, 2, 2]            --\n",
              "│    │    └─Conv2d: 3-49                 [1, 512, 2, 2]            2,359,296\n",
              "│    │    └─BatchNorm2d: 3-50            [1, 512, 2, 2]            1,024\n",
              "│    │    └─ReLU: 3-51                   [1, 512, 2, 2]            --\n",
              "├─AdaptiveAvgPool2d: 1-9                 [1, 512, 1, 1]            --\n",
              "├─Sequential: 1-10                       [1, 4]                    --\n",
              "│    └─Linear: 2-9                       [1, 512]                  262,656\n",
              "│    └─Dropout: 2-10                     [1, 512]                  --\n",
              "│    └─Linear: 2-11                      [1, 256]                  131,328\n",
              "│    └─Linear: 2-12                      [1, 4]                    1,028\n",
              "==========================================================================================\n",
              "Total params: 11,571,524\n",
              "Trainable params: 11,571,524\n",
              "Non-trainable params: 0\n",
              "Total mult-adds (M): 148.45\n",
              "==========================================================================================\n",
              "Input size (MB): 0.05\n",
              "Forward/backward pass size (MB): 3.25\n",
              "Params size (MB): 46.29\n",
              "Estimated Total Size (MB): 49.59\n",
              "=========================================================================================="
            ]
          },
          "metadata": {},
          "execution_count": 20
        }
      ]
    },
    {
      "cell_type": "code",
      "source": [
        "def train_step(model: torch.nn.Module,\n",
        "               dataloader: torch.utils.data.DataLoader,\n",
        "               loss_fn: torch.nn.Module,\n",
        "               optimizer:torch.optim.Optimizer,\n",
        "               device=device):\n",
        "  model.train()\n",
        "\n",
        "  train_loss, train_acc = 0, 0\n",
        "\n",
        "  for batch, (X, y) in enumerate(dataloader):\n",
        "    X, y = X.to(device), y.to(device)\n",
        "    y_pred = model(X)\n",
        "    loss = loss_fn(y_pred, y)\n",
        "    train_loss += loss.item()\n",
        "    optimizer.zero_grad() # optimizer\n",
        "    loss.backward()\n",
        "    optimizer.step()\n",
        "\n",
        "    # Calculate accuracy metric\n",
        "    y_pred_class = torch.argmax(torch.softmax(y_pred, dim=1), dim=1)\n",
        "    train_acc += (y_pred_class==y).sum().item()/len(y_pred)\n",
        "\n",
        "  # get average loss and accuracy per batch\n",
        "  train_loss = train_loss / len(dataloader)\n",
        "  train_acc = train_acc / len(dataloader)\n",
        "  return train_loss, train_acc"
      ],
      "metadata": {
        "id": "qb3pv3vQO1zC"
      },
      "execution_count": 21,
      "outputs": []
    },
    {
      "cell_type": "code",
      "source": [
        "def test_step(model: torch.nn.Module,\n",
        "              dataloader: torch.utils.data.DataLoader,\n",
        "              loss_fn: torch.nn.Module,\n",
        "              device=device):\n",
        "  model.eval()\n",
        "\n",
        "  test_loss, test_acc = 0,  0\n",
        "\n",
        "  with torch.inference_mode():\n",
        "    for batch, (X, y) in enumerate(dataloader):\n",
        "      X, y = X.to(device), y.to(device)\n",
        "      test_pred_logits = model(X)\n",
        "      loss = loss_fn(test_pred_logits, y)\n",
        "      test_loss += loss.item()\n",
        "      test_pred_labels = test_pred_logits.argmax(dim=1)\n",
        "      test_acc += ((test_pred_labels == y).sum().item()/len(test_pred_labels))\n",
        "\n",
        "  # get average loss and accuracy per batch\n",
        "  test_loss = test_loss / len(dataloader)\n",
        "  test_acc = test_acc / len(dataloader)\n",
        "  return test_loss, test_acc"
      ],
      "metadata": {
        "id": "Y0VRmGIsPLz7"
      },
      "execution_count": 22,
      "outputs": []
    },
    {
      "cell_type": "code",
      "source": [
        "from tqdm.auto import tqdm\n",
        "\n",
        "def train(model: torch.nn.Module,\n",
        "          train_dataloader,\n",
        "          test_dataloader,\n",
        "          optimizer,\n",
        "          loss_fn: torch.nn.Module = nn.CrossEntropyLoss(),\n",
        "          epochs: int = 5,\n",
        "          device=device):\n",
        "\n",
        "  results = {\"train_loss\": [],\n",
        "             \"train_acc\": [],\n",
        "             \"test_loss\": [],\n",
        "             \"test_acc\": []}\n",
        "\n",
        "  for epoch in tqdm(range(epochs)):\n",
        "    train_loss, train_acc = train_step(model=model,\n",
        "                                       dataloader=train_dataloader,\n",
        "                                       loss_fn=loss_fn,\n",
        "                                       optimizer=optimizer,\n",
        "                                       device=device)\n",
        "    test_loss, test_acc = test_step(model=model,\n",
        "                                    dataloader=test_dataloader,\n",
        "                                    loss_fn=loss_fn,\n",
        "                                    device=device)\n",
        "\n",
        "    print(f\"Epoch: {epoch} | Train loss: {train_loss:.4f} | Train acc: {train_acc:.4f} | Test loss: {test_loss:.4f} | Test acc: {test_acc:.4f}\")\n",
        "\n",
        "    results[\"train_loss\"].append(train_loss)\n",
        "    results[\"train_acc\"].append(train_acc)\n",
        "    results[\"test_loss\"].append(test_loss)\n",
        "    results[\"test_acc\"].append(test_acc)\n",
        "\n",
        "  return results"
      ],
      "metadata": {
        "id": "tPDPK37QPXtZ"
      },
      "execution_count": 23,
      "outputs": []
    },
    {
      "cell_type": "code",
      "source": [
        "NUM_EPOCHS = 20\n",
        "model_0_results = train(model=resnet18_model,\n",
        "                        train_dataloader=train_dataloader,\n",
        "                        test_dataloader=test_dataloader,\n",
        "                        optimizer=optimizer,\n",
        "                        loss_fn=loss_fn,\n",
        "                        epochs=NUM_EPOCHS)"
      ],
      "metadata": {
        "colab": {
          "base_uri": "https://localhost:8080/",
          "height": 406,
          "referenced_widgets": [
            "3d7b4c93665845d9abda86125334a551",
            "c9360c16c0304821a74e64802a2f17fd",
            "2508f7fc17644655bf6bb2612df879f5",
            "11414237b3b3482fbdd7ca078697b208",
            "8cbbdc6722574fb7a68a64ba1fcbd20e",
            "d3f336669222434d987f5018a7532982",
            "526dcb271f074939b170d0fea5f25432",
            "6589980d2afa452a8f47cb9c206f49c3",
            "57bd0cad39904a22b29d2b43b25c1938",
            "fe2978f362554148a8b8c75faf4778e7",
            "31e1fd4ae9814b08a1cb396fdf85ed9d"
          ]
        },
        "id": "vrnM7hcLPegQ",
        "outputId": "2997c78f-d987-4fd6-e269-39cd3b309004"
      },
      "execution_count": 24,
      "outputs": [
        {
          "output_type": "display_data",
          "data": {
            "text/plain": [
              "  0%|          | 0/20 [00:00<?, ?it/s]"
            ],
            "application/vnd.jupyter.widget-view+json": {
              "version_major": 2,
              "version_minor": 0,
              "model_id": "3d7b4c93665845d9abda86125334a551"
            }
          },
          "metadata": {}
        },
        {
          "output_type": "stream",
          "name": "stdout",
          "text": [
            "Epoch: 0 | Train loss: 1.1004 | Train acc: 0.4938 | Test loss: 2.0071 | Test acc: 0.2969\n",
            "Epoch: 1 | Train loss: 0.7835 | Train acc: 0.6548 | Test loss: 0.8953 | Test acc: 0.6177\n",
            "Epoch: 2 | Train loss: 0.4166 | Train acc: 0.8272 | Test loss: 1.0042 | Test acc: 0.6455\n",
            "Epoch: 3 | Train loss: 0.5072 | Train acc: 0.8201 | Test loss: 2.0413 | Test acc: 0.5062\n",
            "Epoch: 4 | Train loss: 0.4113 | Train acc: 0.8613 | Test loss: 0.8020 | Test acc: 0.6976\n",
            "Epoch: 5 | Train loss: 0.3947 | Train acc: 0.8542 | Test loss: 1.0974 | Test acc: 0.6154\n",
            "Epoch: 6 | Train loss: 0.3081 | Train acc: 0.8949 | Test loss: 1.3925 | Test acc: 0.5432\n",
            "Epoch: 7 | Train loss: 0.3205 | Train acc: 0.8982 | Test loss: 1.0471 | Test acc: 0.6106\n",
            "Epoch: 8 | Train loss: 0.2513 | Train acc: 0.9091 | Test loss: 2.2383 | Test acc: 0.6705\n",
            "Epoch: 9 | Train loss: 0.1701 | Train acc: 0.9394 | Test loss: 0.6111 | Test acc: 0.8088\n",
            "Epoch: 10 | Train loss: 0.2247 | Train acc: 0.9290 | Test loss: 0.8463 | Test acc: 0.8340\n",
            "Epoch: 11 | Train loss: 0.1477 | Train acc: 0.9432 | Test loss: 1.3386 | Test acc: 0.6994\n",
            "Epoch: 12 | Train loss: 0.3546 | Train acc: 0.9034 | Test loss: 0.5798 | Test acc: 0.8221\n",
            "Epoch: 13 | Train loss: 0.4750 | Train acc: 0.8504 | Test loss: 1.3029 | Test acc: 0.6322\n",
            "Epoch: 14 | Train loss: 0.6585 | Train acc: 0.7675 | Test loss: 0.7561 | Test acc: 0.7473\n",
            "Epoch: 15 | Train loss: 0.2906 | Train acc: 0.8902 | Test loss: 0.7739 | Test acc: 0.7219\n",
            "Epoch: 16 | Train loss: 0.2269 | Train acc: 0.9152 | Test loss: 0.9177 | Test acc: 0.7659\n",
            "Epoch: 17 | Train loss: 0.4528 | Train acc: 0.8745 | Test loss: 1.1303 | Test acc: 0.6392\n",
            "Epoch: 18 | Train loss: 0.3974 | Train acc: 0.8684 | Test loss: 0.9388 | Test acc: 0.6843\n",
            "Epoch: 19 | Train loss: 0.2176 | Train acc: 0.9295 | Test loss: 0.5639 | Test acc: 0.8571\n"
          ]
        }
      ]
    },
    {
      "cell_type": "code",
      "source": [
        "torch.save(resnet18_model.state_dict(), \"chest-ctscan_model.pth\")"
      ],
      "metadata": {
        "id": "5R4PN2WfPlp-"
      },
      "execution_count": 25,
      "outputs": []
    },
    {
      "cell_type": "markdown",
      "source": [
        "# Testing"
      ],
      "metadata": {
        "id": "naMzsQvDXfR-"
      }
    },
    {
      "cell_type": "code",
      "source": [
        "import torch\n",
        "import torchvision.models as models\n",
        "import torch.nn as nn\n",
        "\n",
        "# Load ResNet18 and customize it\n",
        "resnet18_model = models.resnet18()\n",
        "resnet18_model.fc = nn.Sequential(\n",
        "    nn.Linear(512, 512),\n",
        "    nn.Dropout(0.2),\n",
        "    nn.Linear(512, 256),\n",
        "    nn.Linear(256, 4)  # len(class_names) should be set to 4\n",
        ")\n",
        "resnet18_model.conv1 = nn.Conv2d(3, 64, kernel_size=(7, 7), stride=(2, 2), padding=(3, 3), bias=False)\n",
        "resnet18_model.load_state_dict(torch.load(\"/content/chest-ctscan_model.pth\"))\n",
        "resnet18_model.eval()\n"
      ],
      "metadata": {
        "colab": {
          "base_uri": "https://localhost:8080/"
        },
        "id": "6dDglxA2WzU4",
        "outputId": "e1a2180d-3aa2-4c7f-b293-b364d0b94b4d"
      },
      "execution_count": 26,
      "outputs": [
        {
          "output_type": "stream",
          "name": "stderr",
          "text": [
            "<ipython-input-26-d752300627c6>:14: FutureWarning: You are using `torch.load` with `weights_only=False` (the current default value), which uses the default pickle module implicitly. It is possible to construct malicious pickle data which will execute arbitrary code during unpickling (See https://github.com/pytorch/pytorch/blob/main/SECURITY.md#untrusted-models for more details). In a future release, the default value for `weights_only` will be flipped to `True`. This limits the functions that could be executed during unpickling. Arbitrary objects will no longer be allowed to be loaded via this mode unless they are explicitly allowlisted by the user via `torch.serialization.add_safe_globals`. We recommend you start setting `weights_only=True` for any use case where you don't have full control of the loaded file. Please open an issue on GitHub for any issues related to this experimental feature.\n",
            "  resnet18_model.load_state_dict(torch.load(\"/content/chest-ctscan_model.pth\"))\n"
          ]
        },
        {
          "output_type": "execute_result",
          "data": {
            "text/plain": [
              "ResNet(\n",
              "  (conv1): Conv2d(3, 64, kernel_size=(7, 7), stride=(2, 2), padding=(3, 3), bias=False)\n",
              "  (bn1): BatchNorm2d(64, eps=1e-05, momentum=0.1, affine=True, track_running_stats=True)\n",
              "  (relu): ReLU(inplace=True)\n",
              "  (maxpool): MaxPool2d(kernel_size=3, stride=2, padding=1, dilation=1, ceil_mode=False)\n",
              "  (layer1): Sequential(\n",
              "    (0): BasicBlock(\n",
              "      (conv1): Conv2d(64, 64, kernel_size=(3, 3), stride=(1, 1), padding=(1, 1), bias=False)\n",
              "      (bn1): BatchNorm2d(64, eps=1e-05, momentum=0.1, affine=True, track_running_stats=True)\n",
              "      (relu): ReLU(inplace=True)\n",
              "      (conv2): Conv2d(64, 64, kernel_size=(3, 3), stride=(1, 1), padding=(1, 1), bias=False)\n",
              "      (bn2): BatchNorm2d(64, eps=1e-05, momentum=0.1, affine=True, track_running_stats=True)\n",
              "    )\n",
              "    (1): BasicBlock(\n",
              "      (conv1): Conv2d(64, 64, kernel_size=(3, 3), stride=(1, 1), padding=(1, 1), bias=False)\n",
              "      (bn1): BatchNorm2d(64, eps=1e-05, momentum=0.1, affine=True, track_running_stats=True)\n",
              "      (relu): ReLU(inplace=True)\n",
              "      (conv2): Conv2d(64, 64, kernel_size=(3, 3), stride=(1, 1), padding=(1, 1), bias=False)\n",
              "      (bn2): BatchNorm2d(64, eps=1e-05, momentum=0.1, affine=True, track_running_stats=True)\n",
              "    )\n",
              "  )\n",
              "  (layer2): Sequential(\n",
              "    (0): BasicBlock(\n",
              "      (conv1): Conv2d(64, 128, kernel_size=(3, 3), stride=(2, 2), padding=(1, 1), bias=False)\n",
              "      (bn1): BatchNorm2d(128, eps=1e-05, momentum=0.1, affine=True, track_running_stats=True)\n",
              "      (relu): ReLU(inplace=True)\n",
              "      (conv2): Conv2d(128, 128, kernel_size=(3, 3), stride=(1, 1), padding=(1, 1), bias=False)\n",
              "      (bn2): BatchNorm2d(128, eps=1e-05, momentum=0.1, affine=True, track_running_stats=True)\n",
              "      (downsample): Sequential(\n",
              "        (0): Conv2d(64, 128, kernel_size=(1, 1), stride=(2, 2), bias=False)\n",
              "        (1): BatchNorm2d(128, eps=1e-05, momentum=0.1, affine=True, track_running_stats=True)\n",
              "      )\n",
              "    )\n",
              "    (1): BasicBlock(\n",
              "      (conv1): Conv2d(128, 128, kernel_size=(3, 3), stride=(1, 1), padding=(1, 1), bias=False)\n",
              "      (bn1): BatchNorm2d(128, eps=1e-05, momentum=0.1, affine=True, track_running_stats=True)\n",
              "      (relu): ReLU(inplace=True)\n",
              "      (conv2): Conv2d(128, 128, kernel_size=(3, 3), stride=(1, 1), padding=(1, 1), bias=False)\n",
              "      (bn2): BatchNorm2d(128, eps=1e-05, momentum=0.1, affine=True, track_running_stats=True)\n",
              "    )\n",
              "  )\n",
              "  (layer3): Sequential(\n",
              "    (0): BasicBlock(\n",
              "      (conv1): Conv2d(128, 256, kernel_size=(3, 3), stride=(2, 2), padding=(1, 1), bias=False)\n",
              "      (bn1): BatchNorm2d(256, eps=1e-05, momentum=0.1, affine=True, track_running_stats=True)\n",
              "      (relu): ReLU(inplace=True)\n",
              "      (conv2): Conv2d(256, 256, kernel_size=(3, 3), stride=(1, 1), padding=(1, 1), bias=False)\n",
              "      (bn2): BatchNorm2d(256, eps=1e-05, momentum=0.1, affine=True, track_running_stats=True)\n",
              "      (downsample): Sequential(\n",
              "        (0): Conv2d(128, 256, kernel_size=(1, 1), stride=(2, 2), bias=False)\n",
              "        (1): BatchNorm2d(256, eps=1e-05, momentum=0.1, affine=True, track_running_stats=True)\n",
              "      )\n",
              "    )\n",
              "    (1): BasicBlock(\n",
              "      (conv1): Conv2d(256, 256, kernel_size=(3, 3), stride=(1, 1), padding=(1, 1), bias=False)\n",
              "      (bn1): BatchNorm2d(256, eps=1e-05, momentum=0.1, affine=True, track_running_stats=True)\n",
              "      (relu): ReLU(inplace=True)\n",
              "      (conv2): Conv2d(256, 256, kernel_size=(3, 3), stride=(1, 1), padding=(1, 1), bias=False)\n",
              "      (bn2): BatchNorm2d(256, eps=1e-05, momentum=0.1, affine=True, track_running_stats=True)\n",
              "    )\n",
              "  )\n",
              "  (layer4): Sequential(\n",
              "    (0): BasicBlock(\n",
              "      (conv1): Conv2d(256, 512, kernel_size=(3, 3), stride=(2, 2), padding=(1, 1), bias=False)\n",
              "      (bn1): BatchNorm2d(512, eps=1e-05, momentum=0.1, affine=True, track_running_stats=True)\n",
              "      (relu): ReLU(inplace=True)\n",
              "      (conv2): Conv2d(512, 512, kernel_size=(3, 3), stride=(1, 1), padding=(1, 1), bias=False)\n",
              "      (bn2): BatchNorm2d(512, eps=1e-05, momentum=0.1, affine=True, track_running_stats=True)\n",
              "      (downsample): Sequential(\n",
              "        (0): Conv2d(256, 512, kernel_size=(1, 1), stride=(2, 2), bias=False)\n",
              "        (1): BatchNorm2d(512, eps=1e-05, momentum=0.1, affine=True, track_running_stats=True)\n",
              "      )\n",
              "    )\n",
              "    (1): BasicBlock(\n",
              "      (conv1): Conv2d(512, 512, kernel_size=(3, 3), stride=(1, 1), padding=(1, 1), bias=False)\n",
              "      (bn1): BatchNorm2d(512, eps=1e-05, momentum=0.1, affine=True, track_running_stats=True)\n",
              "      (relu): ReLU(inplace=True)\n",
              "      (conv2): Conv2d(512, 512, kernel_size=(3, 3), stride=(1, 1), padding=(1, 1), bias=False)\n",
              "      (bn2): BatchNorm2d(512, eps=1e-05, momentum=0.1, affine=True, track_running_stats=True)\n",
              "    )\n",
              "  )\n",
              "  (avgpool): AdaptiveAvgPool2d(output_size=(1, 1))\n",
              "  (fc): Sequential(\n",
              "    (0): Linear(in_features=512, out_features=512, bias=True)\n",
              "    (1): Dropout(p=0.2, inplace=False)\n",
              "    (2): Linear(in_features=512, out_features=256, bias=True)\n",
              "    (3): Linear(in_features=256, out_features=4, bias=True)\n",
              "  )\n",
              ")"
            ]
          },
          "metadata": {},
          "execution_count": 26
        }
      ]
    },
    {
      "cell_type": "code",
      "source": [
        "from torchvision import transforms\n",
        "from PIL import Image\n",
        "\n",
        "# Define the required transformations\n",
        "preprocess = transforms.Compose([\n",
        "    transforms.Resize(size=(224, 224)),\n",
        "     transforms.RandomHorizontalFlip(p=0.7),\n",
        "    transforms.RandomRotation(10),\n",
        "    transforms.ToTensor(),\n",
        "])\n",
        "# Load and preprocess the image\n",
        "image_path = \"/content/drive/MyDrive/Colab Notebooks/lung_cancer_detection/test/squamous.cell.carcinoma/000111.png\"\n",
        "input_image = Image.open(image_path).convert(\"RGB\")\n",
        "input_tensor = preprocess(input_image)\n",
        "input_batch = input_tensor.unsqueeze(0)  # Create a batch dimension"
      ],
      "metadata": {
        "id": "6bFmnHg2Xg0T"
      },
      "execution_count": 33,
      "outputs": []
    },
    {
      "cell_type": "code",
      "source": [
        "with torch.no_grad():\n",
        "    output = resnet18_model(input_batch)\n",
        "    _, predicted_class = torch.max(output, 1)  # Get the predicted class index\n",
        "\n",
        "print(f\"Predicted class: {predicted_class.item()}\")"
      ],
      "metadata": {
        "colab": {
          "base_uri": "https://localhost:8080/"
        },
        "id": "skspQgtMY4l3",
        "outputId": "861e47eb-dc65-40b7-c973-663bcc9de20c"
      },
      "execution_count": 34,
      "outputs": [
        {
          "output_type": "stream",
          "name": "stdout",
          "text": [
            "Predicted class: 3\n"
          ]
        }
      ]
    },
    {
      "cell_type": "code",
      "source": [
        "import os\n",
        "import torch\n",
        "from torchvision import transforms\n",
        "from PIL import Image\n",
        "\n",
        "resnet18_model.eval()\n",
        "\n",
        "preprocess = transforms.Compose([\n",
        "    transforms.Resize(size=(224, 224)),\n",
        "     transforms.RandomHorizontalFlip(p=0.7),\n",
        "    transforms.RandomRotation(10),\n",
        "    transforms.ToTensor(),\n",
        "])\n",
        "\n",
        "test_directory = \"/content/drive/MyDrive/Colab Notebooks/lung_cancer_detection/test/squamous.cell.carcinoma\"\n",
        "\n",
        "# list to store predictions\n",
        "predictions = []\n",
        "\n",
        "for filename in os.listdir(test_directory):\n",
        "    if filename.endswith(\".jpg\") or filename.endswith(\".png\"):\n",
        "        image_path = os.path.join(test_directory, filename)\n",
        "        input_image = Image.open(image_path).convert(\"RGB\")\n",
        "        input_tensor = preprocess(input_image)\n",
        "        input_batch = input_tensor.unsqueeze(0)  # Create a batch dimension\n",
        "\n",
        "        # make prediction\n",
        "        with torch.no_grad():\n",
        "            output = resnet18_model(input_batch)\n",
        "            _, predicted_class = torch.max(output, 1)  # get the predicted class index\n",
        "\n",
        "        predictions.append((filename, predicted_class.item()))\n",
        "\n",
        "# Print all predictions\n",
        "for filename, class_idx in predictions:\n",
        "    print(f\"Image: {filename}, Predicted Class: {class_idx}\")"
      ],
      "metadata": {
        "id": "NRNJsu8_Y5cO",
        "colab": {
          "base_uri": "https://localhost:8080/"
        },
        "outputId": "55d0d912-6cb8-421e-fbb9-c6d3bb57c884"
      },
      "execution_count": 43,
      "outputs": [
        {
          "output_type": "stream",
          "name": "stdout",
          "text": [
            "Image: 000115 (5).png, Predicted Class: 3\n",
            "Image: 000115 (4).png, Predicted Class: 3\n",
            "Image: 000112.png, Predicted Class: 3\n",
            "Image: 000117 (5).png, Predicted Class: 0\n",
            "Image: 000108 (6).png, Predicted Class: 3\n",
            "Image: 000114 (2).png, Predicted Class: 2\n",
            "Image: 000116 (5).png, Predicted Class: 3\n",
            "Image: 000118 (4).png, Predicted Class: 3\n",
            "Image: 000117 (2).png, Predicted Class: 3\n",
            "Image: 000110 (2).png, Predicted Class: 3\n",
            "Image: 000118 (3).png, Predicted Class: 3\n",
            "Image: 000114 (3).png, Predicted Class: 3\n",
            "Image: 000117 (3).png, Predicted Class: 3\n",
            "Image: 000111.png, Predicted Class: 3\n",
            "Image: 000119 (4).png, Predicted Class: 3\n",
            "Image: 000153 (3).png, Predicted Class: 3\n",
            "Image: 000134 (5).png, Predicted Class: 3\n",
            "Image: 000129 (2).png, Predicted Class: 3\n",
            "Image: 000159 (5).png, Predicted Class: 3\n",
            "Image: 000151 (6).png, Predicted Class: 3\n",
            "Image: 000139 (4).png, Predicted Class: 0\n",
            "Image: 000142 (6).png, Predicted Class: 3\n",
            "Image: 000124.png, Predicted Class: 3\n",
            "Image: 000157 (6).png, Predicted Class: 3\n",
            "Image: 000120 (3).png, Predicted Class: 3\n",
            "Image: 000153.png, Predicted Class: 1\n",
            "Image: 000139 (5).png, Predicted Class: 0\n",
            "Image: 000122.png, Predicted Class: 3\n",
            "Image: 000163 (5).png, Predicted Class: 3\n",
            "Image: 000141 (2).png, Predicted Class: 3\n",
            "Image: 000158 (6).png, Predicted Class: 3\n",
            "Image: 000168 (2).png, Predicted Class: 3\n",
            "Image: 000166 (4).png, Predicted Class: 3\n",
            "Image: 000127.png, Predicted Class: 3\n",
            "Image: 000154 (3).png, Predicted Class: 3\n",
            "Image: 000162 (2).png, Predicted Class: 3\n",
            "Image: 000130 (4).png, Predicted Class: 2\n",
            "Image: 000119.png, Predicted Class: 3\n",
            "Image: 000163 (4).png, Predicted Class: 2\n",
            "Image: 000169 (6).png, Predicted Class: 3\n",
            "Image: 000156 (2).png, Predicted Class: 3\n",
            "Image: 000177 (3).png, Predicted Class: 3\n",
            "Image: 000132 (4).png, Predicted Class: 3\n",
            "Image: 000127 (6).png, Predicted Class: 3\n",
            "Image: 000163 (6).png, Predicted Class: 3\n",
            "Image: 000172 (6).png, Predicted Class: 3\n",
            "Image: 000120 (5).png, Predicted Class: 3\n",
            "Image: 000137.png, Predicted Class: 3\n",
            "Image: 000124 (4).png, Predicted Class: 3\n",
            "Image: 000155.png, Predicted Class: 3\n",
            "Image: 000174 (3).png, Predicted Class: 3\n",
            "Image: 000153 (4).png, Predicted Class: 2\n",
            "Image: 000135.png, Predicted Class: 1\n",
            "Image: 000155 (3).png, Predicted Class: 3\n",
            "Image: 000136 (4).png, Predicted Class: 3\n",
            "Image: 000146 (6).png, Predicted Class: 3\n",
            "Image: 000149 (4).png, Predicted Class: 3\n",
            "Image: 000136 (6).png, Predicted Class: 1\n",
            "Image: 000120 (2).png, Predicted Class: 3\n",
            "Image: 000141 (4).png, Predicted Class: 2\n",
            "Image: 000122 (6).png, Predicted Class: 3\n",
            "Image: 000125 (2).png, Predicted Class: 0\n",
            "Image: 000148 (4).png, Predicted Class: 3\n",
            "Image: 000164 (5).png, Predicted Class: 3\n",
            "Image: 000124 (5).png, Predicted Class: 3\n",
            "Image: 000135 (4).png, Predicted Class: 3\n",
            "Image: 000145 (6).png, Predicted Class: 3\n",
            "Image: 000154 (2).png, Predicted Class: 0\n",
            "Image: 000144 (5).png, Predicted Class: 2\n",
            "Image: 000131 (6).png, Predicted Class: 3\n",
            "Image: 000137 (3).png, Predicted Class: 3\n",
            "Image: 000121.png, Predicted Class: 1\n",
            "Image: 000158 (4).png, Predicted Class: 3\n",
            "Image: 000167 (2).png, Predicted Class: 3\n",
            "Image: 000151.png, Predicted Class: 3\n",
            "Image: 000162.png, Predicted Class: 3\n",
            "Image: 000125 (6).png, Predicted Class: 3\n",
            "Image: 000127 (2).png, Predicted Class: 3\n",
            "Image: 000160 (4).png, Predicted Class: 3\n",
            "Image: 000126 (4).png, Predicted Class: 3\n",
            "Image: 000125.png, Predicted Class: 3\n",
            "Image: 000129 (6).png, Predicted Class: 3\n",
            "Image: 000121 (5).png, Predicted Class: 3\n",
            "Image: 000142 (5).png, Predicted Class: 3\n",
            "Image: 000133 (3).png, Predicted Class: 3\n",
            "Image: 000139 (6).png, Predicted Class: 3\n",
            "Image: 000154 (4).png, Predicted Class: 3\n",
            "Image: 000170 (2).png, Predicted Class: 3\n",
            "Image: 000148 (3).png, Predicted Class: 3\n",
            "Image: 000133 (2).png, Predicted Class: 0\n"
          ]
        }
      ]
    },
    {
      "cell_type": "code",
      "source": [
        "import os\n",
        "import torch\n",
        "from torchvision import transforms\n",
        "from PIL import Image\n",
        "from sklearn.metrics import accuracy_score, precision_score, recall_score, f1_score, confusion_matrix\n",
        "\n",
        "# Set your model to evaluation mode\n",
        "resnet18_model.eval()\n",
        "\n",
        "# Define your transformation function\n",
        "data_transform = transforms.Compose([\n",
        "    transforms.Resize(size=(224, 224)),\n",
        "     transforms.RandomHorizontalFlip(p=0.7),\n",
        "    transforms.RandomRotation(10),\n",
        "    transforms.ToTensor(),\n",
        "])\n",
        "\n",
        "test_directory = \"/content/drive/MyDrive/Colab Notebooks/lung_cancer_detection/test/squamous.cell.carcinoma\"\n",
        "true_labels = []\n",
        "predictions = []\n",
        "\n",
        "def get_true_label(filename):\n",
        "    label = 3\n",
        "    return label\n",
        "\n",
        "# iterate through test images\n",
        "for filename in os.listdir(test_directory):\n",
        "    if filename.endswith(\".jpg\") or filename.endswith(\".png\"):\n",
        "        image_path = os.path.join(test_directory, filename)\n",
        "        input_image = Image.open(image_path).convert(\"RGB\")\n",
        "        input_tensor = data_transform(input_image)\n",
        "        input_batch = input_tensor.unsqueeze(0)  # create a batch dimension\n",
        "\n",
        "        with torch.no_grad():\n",
        "            output = resnet18_model(input_batch)\n",
        "            _, predicted_class = torch.max(output, 1)  # get the predicted class index\n",
        "\n",
        "        predictions.append(predicted_class.item())\n",
        "\n",
        "        true_labels.append(get_true_label(filename))\n",
        "\n",
        "# Calculate performance metrics\n",
        "accuracy = accuracy_score(true_labels, predictions)\n",
        "precision = precision_score(true_labels, predictions, average='weighted')\n",
        "recall = recall_score(true_labels, predictions, average='weighted')\n",
        "f1 = f1_score(true_labels, predictions, average='weighted')\n",
        "confusion_mat = confusion_matrix(true_labels, predictions)\n",
        "\n",
        "print(f\"Accuracy: {accuracy:.4f}\")\n",
        "print(f\"Precision: {precision:.4f}\")\n",
        "print(f\"Recall: {recall:.4f}\")\n",
        "print(f\"F1 Score: {f1:.4f}\")\n",
        "print(\"Confusion Matrix:\")\n",
        "print(confusion_mat)\n"
      ],
      "metadata": {
        "colab": {
          "base_uri": "https://localhost:8080/"
        },
        "id": "efA70RVigpyH",
        "outputId": "cff54fe2-cedd-4ad6-8901-b9e8c7676d0a"
      },
      "execution_count": 44,
      "outputs": [
        {
          "output_type": "stream",
          "name": "stdout",
          "text": [
            "Accuracy: 0.8556\n",
            "Precision: 1.0000\n",
            "Recall: 0.8556\n",
            "F1 Score: 0.9222\n",
            "Confusion Matrix:\n",
            "[[ 0  0  0  0]\n",
            " [ 0  0  0  0]\n",
            " [ 0  0  0  0]\n",
            " [ 3  5  5 77]]\n"
          ]
        },
        {
          "output_type": "stream",
          "name": "stderr",
          "text": [
            "/usr/local/lib/python3.10/dist-packages/sklearn/metrics/_classification.py:1531: UndefinedMetricWarning: Recall is ill-defined and being set to 0.0 in labels with no true samples. Use `zero_division` parameter to control this behavior.\n",
            "  _warn_prf(average, modifier, f\"{metric.capitalize()} is\", len(result))\n"
          ]
        }
      ]
    },
    {
      "cell_type": "code",
      "source": [
        "!pip install streamlit"
      ],
      "metadata": {
        "colab": {
          "base_uri": "https://localhost:8080/"
        },
        "id": "Vu7v7m-roqJm",
        "outputId": "5ee65e22-d90a-42bc-a671-37360ae3bfcf"
      },
      "execution_count": 45,
      "outputs": [
        {
          "output_type": "stream",
          "name": "stdout",
          "text": [
            "Collecting streamlit\n",
            "  Downloading streamlit-1.39.0-py2.py3-none-any.whl.metadata (8.5 kB)\n",
            "Requirement already satisfied: altair<6,>=4.0 in /usr/local/lib/python3.10/dist-packages (from streamlit) (4.2.2)\n",
            "Requirement already satisfied: blinker<2,>=1.0.0 in /usr/lib/python3/dist-packages (from streamlit) (1.4)\n",
            "Requirement already satisfied: cachetools<6,>=4.0 in /usr/local/lib/python3.10/dist-packages (from streamlit) (5.5.0)\n",
            "Requirement already satisfied: click<9,>=7.0 in /usr/local/lib/python3.10/dist-packages (from streamlit) (8.1.7)\n",
            "Requirement already satisfied: numpy<3,>=1.20 in /usr/local/lib/python3.10/dist-packages (from streamlit) (1.26.4)\n",
            "Requirement already satisfied: packaging<25,>=20 in /usr/local/lib/python3.10/dist-packages (from streamlit) (24.1)\n",
            "Requirement already satisfied: pandas<3,>=1.4.0 in /usr/local/lib/python3.10/dist-packages (from streamlit) (2.2.2)\n",
            "Requirement already satisfied: pillow<11,>=7.1.0 in /usr/local/lib/python3.10/dist-packages (from streamlit) (10.4.0)\n",
            "Requirement already satisfied: protobuf<6,>=3.20 in /usr/local/lib/python3.10/dist-packages (from streamlit) (3.20.3)\n",
            "Requirement already satisfied: pyarrow>=7.0 in /usr/local/lib/python3.10/dist-packages (from streamlit) (17.0.0)\n",
            "Requirement already satisfied: requests<3,>=2.27 in /usr/local/lib/python3.10/dist-packages (from streamlit) (2.32.3)\n",
            "Requirement already satisfied: rich<14,>=10.14.0 in /usr/local/lib/python3.10/dist-packages (from streamlit) (13.9.3)\n",
            "Requirement already satisfied: tenacity<10,>=8.1.0 in /usr/local/lib/python3.10/dist-packages (from streamlit) (9.0.0)\n",
            "Requirement already satisfied: toml<2,>=0.10.1 in /usr/local/lib/python3.10/dist-packages (from streamlit) (0.10.2)\n",
            "Requirement already satisfied: typing-extensions<5,>=4.3.0 in /usr/local/lib/python3.10/dist-packages (from streamlit) (4.12.2)\n",
            "Requirement already satisfied: gitpython!=3.1.19,<4,>=3.0.7 in /usr/local/lib/python3.10/dist-packages (from streamlit) (3.1.43)\n",
            "Collecting pydeck<1,>=0.8.0b4 (from streamlit)\n",
            "  Downloading pydeck-0.9.1-py2.py3-none-any.whl.metadata (4.1 kB)\n",
            "Requirement already satisfied: tornado<7,>=6.0.3 in /usr/local/lib/python3.10/dist-packages (from streamlit) (6.3.3)\n",
            "Collecting watchdog<6,>=2.1.5 (from streamlit)\n",
            "  Downloading watchdog-5.0.3-py3-none-manylinux2014_x86_64.whl.metadata (41 kB)\n",
            "\u001b[2K     \u001b[90m━━━━━━━━━━━━━━━━━━━━━━━━━━━━━━━━━━━━━━━━\u001b[0m \u001b[32m41.9/41.9 kB\u001b[0m \u001b[31m1.8 MB/s\u001b[0m eta \u001b[36m0:00:00\u001b[0m\n",
            "\u001b[?25hRequirement already satisfied: entrypoints in /usr/local/lib/python3.10/dist-packages (from altair<6,>=4.0->streamlit) (0.4)\n",
            "Requirement already satisfied: jinja2 in /usr/local/lib/python3.10/dist-packages (from altair<6,>=4.0->streamlit) (3.1.4)\n",
            "Requirement already satisfied: jsonschema>=3.0 in /usr/local/lib/python3.10/dist-packages (from altair<6,>=4.0->streamlit) (4.23.0)\n",
            "Requirement already satisfied: toolz in /usr/local/lib/python3.10/dist-packages (from altair<6,>=4.0->streamlit) (0.12.1)\n",
            "Requirement already satisfied: gitdb<5,>=4.0.1 in /usr/local/lib/python3.10/dist-packages (from gitpython!=3.1.19,<4,>=3.0.7->streamlit) (4.0.11)\n",
            "Requirement already satisfied: python-dateutil>=2.8.2 in /usr/local/lib/python3.10/dist-packages (from pandas<3,>=1.4.0->streamlit) (2.8.2)\n",
            "Requirement already satisfied: pytz>=2020.1 in /usr/local/lib/python3.10/dist-packages (from pandas<3,>=1.4.0->streamlit) (2024.2)\n",
            "Requirement already satisfied: tzdata>=2022.7 in /usr/local/lib/python3.10/dist-packages (from pandas<3,>=1.4.0->streamlit) (2024.2)\n",
            "Requirement already satisfied: charset-normalizer<4,>=2 in /usr/local/lib/python3.10/dist-packages (from requests<3,>=2.27->streamlit) (3.4.0)\n",
            "Requirement already satisfied: idna<4,>=2.5 in /usr/local/lib/python3.10/dist-packages (from requests<3,>=2.27->streamlit) (3.10)\n",
            "Requirement already satisfied: urllib3<3,>=1.21.1 in /usr/local/lib/python3.10/dist-packages (from requests<3,>=2.27->streamlit) (2.2.3)\n",
            "Requirement already satisfied: certifi>=2017.4.17 in /usr/local/lib/python3.10/dist-packages (from requests<3,>=2.27->streamlit) (2024.8.30)\n",
            "Requirement already satisfied: markdown-it-py>=2.2.0 in /usr/local/lib/python3.10/dist-packages (from rich<14,>=10.14.0->streamlit) (3.0.0)\n",
            "Requirement already satisfied: pygments<3.0.0,>=2.13.0 in /usr/local/lib/python3.10/dist-packages (from rich<14,>=10.14.0->streamlit) (2.18.0)\n",
            "Requirement already satisfied: smmap<6,>=3.0.1 in /usr/local/lib/python3.10/dist-packages (from gitdb<5,>=4.0.1->gitpython!=3.1.19,<4,>=3.0.7->streamlit) (5.0.1)\n",
            "Requirement already satisfied: MarkupSafe>=2.0 in /usr/local/lib/python3.10/dist-packages (from jinja2->altair<6,>=4.0->streamlit) (3.0.2)\n",
            "Requirement already satisfied: attrs>=22.2.0 in /usr/local/lib/python3.10/dist-packages (from jsonschema>=3.0->altair<6,>=4.0->streamlit) (24.2.0)\n",
            "Requirement already satisfied: jsonschema-specifications>=2023.03.6 in /usr/local/lib/python3.10/dist-packages (from jsonschema>=3.0->altair<6,>=4.0->streamlit) (2024.10.1)\n",
            "Requirement already satisfied: referencing>=0.28.4 in /usr/local/lib/python3.10/dist-packages (from jsonschema>=3.0->altair<6,>=4.0->streamlit) (0.35.1)\n",
            "Requirement already satisfied: rpds-py>=0.7.1 in /usr/local/lib/python3.10/dist-packages (from jsonschema>=3.0->altair<6,>=4.0->streamlit) (0.20.0)\n",
            "Requirement already satisfied: mdurl~=0.1 in /usr/local/lib/python3.10/dist-packages (from markdown-it-py>=2.2.0->rich<14,>=10.14.0->streamlit) (0.1.2)\n",
            "Requirement already satisfied: six>=1.5 in /usr/local/lib/python3.10/dist-packages (from python-dateutil>=2.8.2->pandas<3,>=1.4.0->streamlit) (1.16.0)\n",
            "Downloading streamlit-1.39.0-py2.py3-none-any.whl (8.7 MB)\n",
            "\u001b[2K   \u001b[90m━━━━━━━━━━━━━━━━━━━━━━━━━━━━━━━━━━━━━━━━\u001b[0m \u001b[32m8.7/8.7 MB\u001b[0m \u001b[31m46.3 MB/s\u001b[0m eta \u001b[36m0:00:00\u001b[0m\n",
            "\u001b[?25hDownloading pydeck-0.9.1-py2.py3-none-any.whl (6.9 MB)\n",
            "\u001b[2K   \u001b[90m━━━━━━━━━━━━━━━━━━━━━━━━━━━━━━━━━━━━━━━━\u001b[0m \u001b[32m6.9/6.9 MB\u001b[0m \u001b[31m48.3 MB/s\u001b[0m eta \u001b[36m0:00:00\u001b[0m\n",
            "\u001b[?25hDownloading watchdog-5.0.3-py3-none-manylinux2014_x86_64.whl (79 kB)\n",
            "\u001b[2K   \u001b[90m━━━━━━━━━━━━━━━━━━━━━━━━━━━━━━━━━━━━━━━━\u001b[0m \u001b[32m79.3/79.3 kB\u001b[0m \u001b[31m5.4 MB/s\u001b[0m eta \u001b[36m0:00:00\u001b[0m\n",
            "\u001b[?25hInstalling collected packages: watchdog, pydeck, streamlit\n",
            "Successfully installed pydeck-0.9.1 streamlit-1.39.0 watchdog-5.0.3\n"
          ]
        }
      ]
    },
    {
      "cell_type": "code",
      "source": [
        "import streamlit as st\n",
        "import torch\n",
        "from torchvision import transforms\n",
        "from PIL import Image\n",
        "import torch.nn as nn\n",
        "import torchvision.models as models\n",
        "\n",
        "# Load the pre-trained model and modify it as per your configuration\n",
        "@st.cache_resource  # Cache the model to avoid reloading on every interaction\n",
        "def load_model():\n",
        "    resnet18_model = models.resnet18()\n",
        "    resnet18_model.fc = nn.Sequential(\n",
        "        nn.Linear(512, 512),\n",
        "        nn.Dropout(0.2),\n",
        "        nn.Linear(512, 256),\n",
        "        nn.Linear(256, 4)  # len(class_names) should be set to 4\n",
        "    )\n",
        "    resnet18_model.conv1 = nn.Conv2d(3, 64, kernel_size=(7, 7), stride=(2, 2), padding=(3, 3), bias=False)\n",
        "    resnet18_model.load_state_dict(torch.load(\"/content/chest-ctscan_model.pth\"))\n",
        "    resnet18_model.eval()\n",
        "    return resnet18_model\n",
        "\n",
        "# Load the model\n",
        "resnet18_model = load_model()\n",
        "\n",
        "# Define the transformation function\n",
        "data_transform = transforms.Compose([\n",
        "    transforms.Resize(size=(224, 224)),\n",
        "    transforms.RandomHorizontalFlip(p=0.7),\n",
        "    transforms.RandomRotation(10),\n",
        "    transforms.ToTensor(),\n",
        "])\n",
        "\n",
        "# Define the class labels\n",
        "class_labels = {\n",
        "    0: 'adenocarcinoma_left.lower.lobe',\n",
        "    1: 'large.cell.carcinoma_left.hilum',\n",
        "    2: 'normal',\n",
        "    3: 'squamous.cell.carcinoma_left.hilum'\n",
        "}\n",
        "\n",
        "st.title(\"Lung Cancer Detection from CT Scan\")\n",
        "st.write(\"Upload a lung scan image, and the model will predict the type.\")\n",
        "\n",
        "# File uploader\n",
        "uploaded_file = st.file_uploader(\"Choose a lung scan image...\", type=[\"jpg\", \"png\", \"jpeg\"])\n",
        "\n",
        "if uploaded_file is not None:\n",
        "    # Open the image and apply transformations\n",
        "    image = Image.open(uploaded_file).convert(\"RGB\")\n",
        "    st.image(image, caption=\"Uploaded Lung Scan\", use_column_width=True)\n",
        "\n",
        "    # Preprocess the image\n",
        "    input_tensor = data_transform(image)\n",
        "    input_batch = input_tensor.unsqueeze(0)  # Add batch dimension\n",
        "\n",
        "    # Make prediction\n",
        "    with torch.no_grad():\n",
        "        output = resnet18_model(input_batch)\n",
        "        _, predicted_class = torch.max(output, 1)\n",
        "        predicted_label = class_labels[predicted_class.item()]\n",
        "\n",
        "    st.write(f\"**Prediction:** {predicted_label}\")"
      ],
      "metadata": {
        "colab": {
          "base_uri": "https://localhost:8080/"
        },
        "id": "osg1SFKlhwS8",
        "outputId": "b1f77eec-2462-4f0a-c9d4-7e578047fac8"
      },
      "execution_count": 46,
      "outputs": [
        {
          "output_type": "stream",
          "name": "stderr",
          "text": [
            "2024-11-02 16:11:56.570 WARNING streamlit.runtime.scriptrunner_utils.script_run_context: Thread 'MainThread': missing ScriptRunContext! This warning can be ignored when running in bare mode.\n",
            "2024-11-02 16:11:56.731 \n",
            "  \u001b[33m\u001b[1mWarning:\u001b[0m to view this Streamlit app on a browser, run it with the following\n",
            "  command:\n",
            "\n",
            "    streamlit run /usr/local/lib/python3.10/dist-packages/colab_kernel_launcher.py [ARGUMENTS]\n",
            "2024-11-02 16:11:56.734 Thread 'MainThread': missing ScriptRunContext! This warning can be ignored when running in bare mode.\n",
            "2024-11-02 16:11:56.743 Thread 'MainThread': missing ScriptRunContext! This warning can be ignored when running in bare mode.\n",
            "<ipython-input-46-973882e18a3e>:19: FutureWarning: You are using `torch.load` with `weights_only=False` (the current default value), which uses the default pickle module implicitly. It is possible to construct malicious pickle data which will execute arbitrary code during unpickling (See https://github.com/pytorch/pytorch/blob/main/SECURITY.md#untrusted-models for more details). In a future release, the default value for `weights_only` will be flipped to `True`. This limits the functions that could be executed during unpickling. Arbitrary objects will no longer be allowed to be loaded via this mode unless they are explicitly allowlisted by the user via `torch.serialization.add_safe_globals`. We recommend you start setting `weights_only=True` for any use case where you don't have full control of the loaded file. Please open an issue on GitHub for any issues related to this experimental feature.\n",
            "  resnet18_model.load_state_dict(torch.load(\"/content/chest-ctscan_model.pth\"))\n",
            "2024-11-02 16:11:57.132 Thread 'MainThread': missing ScriptRunContext! This warning can be ignored when running in bare mode.\n",
            "2024-11-02 16:11:57.135 Thread 'MainThread': missing ScriptRunContext! This warning can be ignored when running in bare mode.\n",
            "2024-11-02 16:11:57.142 Thread 'MainThread': missing ScriptRunContext! This warning can be ignored when running in bare mode.\n",
            "2024-11-02 16:11:57.147 Thread 'MainThread': missing ScriptRunContext! This warning can be ignored when running in bare mode.\n",
            "2024-11-02 16:11:57.150 Thread 'MainThread': missing ScriptRunContext! This warning can be ignored when running in bare mode.\n",
            "2024-11-02 16:11:57.154 Thread 'MainThread': missing ScriptRunContext! This warning can be ignored when running in bare mode.\n",
            "2024-11-02 16:11:57.158 Thread 'MainThread': missing ScriptRunContext! This warning can be ignored when running in bare mode.\n",
            "2024-11-02 16:11:57.162 Thread 'MainThread': missing ScriptRunContext! This warning can be ignored when running in bare mode.\n",
            "2024-11-02 16:11:57.165 Thread 'MainThread': missing ScriptRunContext! This warning can be ignored when running in bare mode.\n",
            "2024-11-02 16:11:57.168 Thread 'MainThread': missing ScriptRunContext! This warning can be ignored when running in bare mode.\n",
            "2024-11-02 16:11:57.172 Thread 'MainThread': missing ScriptRunContext! This warning can be ignored when running in bare mode.\n",
            "2024-11-02 16:11:57.175 Thread 'MainThread': missing ScriptRunContext! This warning can be ignored when running in bare mode.\n",
            "2024-11-02 16:11:57.179 Thread 'MainThread': missing ScriptRunContext! This warning can be ignored when running in bare mode.\n"
          ]
        }
      ]
    },
    {
      "cell_type": "code",
      "source": [],
      "metadata": {
        "id": "nDYcN3WppbsS"
      },
      "execution_count": null,
      "outputs": []
    }
  ]
}